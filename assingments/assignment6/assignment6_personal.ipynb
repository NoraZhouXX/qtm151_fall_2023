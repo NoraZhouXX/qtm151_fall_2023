{
 "cells": [
  {
   "attachments": {},
   "cell_type": "markdown",
   "metadata": {},
   "source": [
    "# Assignment 6"
   ]
  },
  {
   "attachments": {},
   "cell_type": "markdown",
   "metadata": {},
   "source": [
    "## Try to submit as an HTML file"
   ]
  },
  {
   "attachments": {},
   "cell_type": "markdown",
   "metadata": {},
   "source": [
    "<font size = \"5\">\n",
    "Print your Emory ID below"
   ]
  },
  {
   "cell_type": "code",
   "execution_count": 2,
   "metadata": {},
   "outputs": [
    {
     "name": "stdout",
     "output_type": "stream",
     "text": [
      "2486585\n"
     ]
    }
   ],
   "source": [
    "print(\"2486585\")"
   ]
  },
  {
   "attachments": {},
   "cell_type": "markdown",
   "metadata": {},
   "source": [
    "<font size = \"5\">\n",
    "\n",
    "Import the \"pandas\" and \"matplotlib.pyplot\" library"
   ]
  },
  {
   "cell_type": "code",
   "execution_count": 11,
   "metadata": {},
   "outputs": [],
   "source": [
    "# Write your answer here:\n",
    "import numpy as np\n",
    "import matplotlib.pyplot as plt\n",
    "import pandas as pd"
   ]
  },
  {
   "attachments": {},
   "cell_type": "markdown",
   "metadata": {},
   "source": [
    "<font size = \"5\">\n",
    "\n",
    "(a) Compute function for each individual (map)\n",
    "\n",
    "<font size = \"3\">\n",
    "\n",
    "- Import the datset \"data/bmi.csv\"\n",
    "    - **Note that the column `Height` is in $cm$, and `Weight` is in $kg$**\n",
    "- Write a lambda function for $ BMI = \\frac{weight (kg)}{height (m)^2} $\n",
    "- Use ```list(map(...))``` to calculate $BMI$ for each row of the dataset\n",
    "- Round the outcome into 2 decimal points\n",
    "- Store the calculation in a new column in the dataframe called `BMI`\n",
    "- Display the dataframe\n"
   ]
  },
  {
   "cell_type": "code",
   "execution_count": 67,
   "metadata": {},
   "outputs": [
    {
     "data": {
      "text/plain": [
       "0      31.71\n",
       "1      24.36\n",
       "2      32.14\n",
       "3      27.35\n",
       "4      27.48\n",
       "       ...  \n",
       "495    68.00\n",
       "496    35.74\n",
       "497    68.41\n",
       "498    42.22\n",
       "499    43.77\n",
       "Name: 0, Length: 500, dtype: float64"
      ]
     },
     "metadata": {},
     "output_type": "display_data"
    }
   ],
   "source": [
    "# Write your own code here\n",
    "bmi_data = pd.read_csv(\"data/bmi.csv\")\n",
    "bmi_fn = lambda Weight, Height: round(bmi_data[\"Weight\"] / (bmi_data[\"Height\"] / 100)**2, 2)\n",
    "\n",
    "\n",
    "BMI = pd.DataFrame(list(map(bmi_fn, bmi_data[\"Weight\"], bmi_data[\"Height\"])))\n",
    "display(BMI.iloc[0,:])\n",
    "\n",
    "\n"
   ]
  },
  {
   "attachments": {},
   "cell_type": "markdown",
   "metadata": {},
   "source": [
    "<font size = \"5\">\n",
    "For questions (b)-(d), read \"data/wdi_2020.csv\" <br>\n",
    "\n",
    "- This is a dataset containing the proportion  <br>\n",
    "of urban population by country in 2020"
   ]
  },
  {
   "attachments": {},
   "cell_type": "markdown",
   "metadata": {},
   "source": [
    "<font size = \"5\">\n",
    "\n",
    "(b) Convert to upper case\n",
    "\n",
    "<font size = \"3\">\n",
    "\n",
    "- Create the following function to convert a string to upper case\n",
    "\n",
    "$\\quad$ ``` fn_upper = lambda x: x.upper() ```\n",
    "\n",
    "- Create a new column, \"countryname_upper\"  <br>\n",
    "that converts \"countryname\" to upper case.\n",
    "\n",
    "- Print the original `countryname` and the newly created column, like: <br>\n",
    "\"['Afghanistan', 'Africa Eastern and Southern', 'Africa Western and Central', 'Albania', 'Algeria', ......] \""
   ]
  },
  {
   "cell_type": "code",
   "execution_count": 24,
   "metadata": {},
   "outputs": [
    {
     "name": "stdout",
     "output_type": "stream",
     "text": [
      "0                      Afghanistan\n",
      "1      Africa Eastern and Southern\n",
      "2       Africa Western and Central\n",
      "3                          Albania\n",
      "4                          Algeria\n",
      "                  ...             \n",
      "261             West Bank and Gaza\n",
      "262                          World\n",
      "263                    Yemen, Rep.\n",
      "264                         Zambia\n",
      "265                       Zimbabwe\n",
      "Name: countryname, Length: 266, dtype: object\n",
      "0                      AFGHANISTAN\n",
      "1      AFRICA EASTERN AND SOUTHERN\n",
      "2       AFRICA WESTERN AND CENTRAL\n",
      "3                          ALBANIA\n",
      "4                          ALGERIA\n",
      "                  ...             \n",
      "261             WEST BANK AND GAZA\n",
      "262                          WORLD\n",
      "263                    YEMEN, REP.\n",
      "264                         ZAMBIA\n",
      "265                       ZIMBABWE\n",
      "Name: countryname_upper, Length: 266, dtype: object\n"
     ]
    }
   ],
   "source": [
    "# Write your own code here\n",
    "wdi_2020 = pd.read_csv(\"data/wdi_2020.csv\")\n",
    "fn_upper = lambda x: x.upper()\n",
    "wdi_2020[\"countryname_upper\"] = wdi_2020[\"countryname\"].apply(fn_upper)\n",
    "print(wdi_2020[\"countryname\"])\n",
    "print(wdi_2020[\"countryname_upper\"])"
   ]
  },
  {
   "attachments": {},
   "cell_type": "markdown",
   "metadata": {},
   "source": [
    "<font size = \"5\">\n",
    "\n",
    "(c) Extract sorted elements from a dataset\n",
    "\n",
    "<font size = \"3\">\n",
    "\n",
    "- Sort by \"prop_urbanpopulation\" in ascending order\n",
    "- Subset the 5 countries with the lowest urban population"
   ]
  },
  {
   "cell_type": "code",
   "execution_count": 27,
   "metadata": {},
   "outputs": [
    {
     "data": {
      "text/html": [
       "<div>\n",
       "<style scoped>\n",
       "    .dataframe tbody tr th:only-of-type {\n",
       "        vertical-align: middle;\n",
       "    }\n",
       "\n",
       "    .dataframe tbody tr th {\n",
       "        vertical-align: top;\n",
       "    }\n",
       "\n",
       "    .dataframe thead th {\n",
       "        text-align: right;\n",
       "    }\n",
       "</style>\n",
       "<table border=\"1\" class=\"dataframe\">\n",
       "  <thead>\n",
       "    <tr style=\"text-align: right;\">\n",
       "      <th></th>\n",
       "      <th>year</th>\n",
       "      <th>yearcode</th>\n",
       "      <th>countryname</th>\n",
       "      <th>countrycode</th>\n",
       "      <th>prop_urbanpopulation</th>\n",
       "      <th>countryname_upper</th>\n",
       "    </tr>\n",
       "  </thead>\n",
       "  <tbody>\n",
       "    <tr>\n",
       "      <th>191</th>\n",
       "      <td>2020</td>\n",
       "      <td>YR2020</td>\n",
       "      <td>Papua New Guinea</td>\n",
       "      <td>PNG</td>\n",
       "      <td>13.345</td>\n",
       "      <td>PAPUA NEW GUINEA</td>\n",
       "    </tr>\n",
       "    <tr>\n",
       "      <th>34</th>\n",
       "      <td>2020</td>\n",
       "      <td>YR2020</td>\n",
       "      <td>Burundi</td>\n",
       "      <td>BDI</td>\n",
       "      <td>13.708</td>\n",
       "      <td>BURUNDI</td>\n",
       "    </tr>\n",
       "    <tr>\n",
       "      <th>141</th>\n",
       "      <td>2020</td>\n",
       "      <td>YR2020</td>\n",
       "      <td>Liechtenstein</td>\n",
       "      <td>LIE</td>\n",
       "      <td>14.416</td>\n",
       "      <td>LIECHTENSTEIN</td>\n",
       "    </tr>\n",
       "    <tr>\n",
       "      <th>177</th>\n",
       "      <td>2020</td>\n",
       "      <td>YR2020</td>\n",
       "      <td>Niger</td>\n",
       "      <td>NER</td>\n",
       "      <td>16.626</td>\n",
       "      <td>NIGER</td>\n",
       "    </tr>\n",
       "    <tr>\n",
       "      <th>149</th>\n",
       "      <td>2020</td>\n",
       "      <td>YR2020</td>\n",
       "      <td>Malawi</td>\n",
       "      <td>MWI</td>\n",
       "      <td>17.427</td>\n",
       "      <td>MALAWI</td>\n",
       "    </tr>\n",
       "  </tbody>\n",
       "</table>\n",
       "</div>"
      ],
      "text/plain": [
       "     year yearcode       countryname countrycode  prop_urbanpopulation  \\\n",
       "191  2020   YR2020  Papua New Guinea         PNG                13.345   \n",
       "34   2020   YR2020           Burundi         BDI                13.708   \n",
       "141  2020   YR2020     Liechtenstein         LIE                14.416   \n",
       "177  2020   YR2020             Niger         NER                16.626   \n",
       "149  2020   YR2020            Malawi         MWI                17.427   \n",
       "\n",
       "    countryname_upper  \n",
       "191  PAPUA NEW GUINEA  \n",
       "34            BURUNDI  \n",
       "141     LIECHTENSTEIN  \n",
       "177             NIGER  \n",
       "149            MALAWI  "
      ]
     },
     "metadata": {},
     "output_type": "display_data"
    }
   ],
   "source": [
    "# Write your code here\n",
    "urban = wdi_2020.sort_values(by = \"prop_urbanpopulation\", ascending = True)\n",
    "display(urban.iloc[0:5, :])\n"
   ]
  },
  {
   "attachments": {},
   "cell_type": "markdown",
   "metadata": {},
   "source": [
    "<font size = \"5\">\n",
    "\n",
    "(d) Subset elements with query\n",
    "\n",
    "<font size = \"3\">\n",
    "\n",
    "- Compute the 25 quantile value of \"prop_urbanpopulation\"\n",
    "- Use \".query()\" to subset countries with <br>\n",
    " \"prop_urbanpopulation\" higher the 25 quantile\n",
    "\n",
    "**hint: Import ```numpy``` and use `np.nanpercentile`**"
   ]
  },
  {
   "cell_type": "code",
   "execution_count": 48,
   "metadata": {},
   "outputs": [
    {
     "data": {
      "text/html": [
       "<div>\n",
       "<style scoped>\n",
       "    .dataframe tbody tr th:only-of-type {\n",
       "        vertical-align: middle;\n",
       "    }\n",
       "\n",
       "    .dataframe tbody tr th {\n",
       "        vertical-align: top;\n",
       "    }\n",
       "\n",
       "    .dataframe thead th {\n",
       "        text-align: right;\n",
       "    }\n",
       "</style>\n",
       "<table border=\"1\" class=\"dataframe\">\n",
       "  <thead>\n",
       "    <tr style=\"text-align: right;\">\n",
       "      <th></th>\n",
       "      <th>year</th>\n",
       "      <th>yearcode</th>\n",
       "      <th>countryname</th>\n",
       "      <th>countrycode</th>\n",
       "      <th>prop_urbanpopulation</th>\n",
       "      <th>countryname_upper</th>\n",
       "    </tr>\n",
       "  </thead>\n",
       "  <tbody>\n",
       "    <tr>\n",
       "      <th>2</th>\n",
       "      <td>2020</td>\n",
       "      <td>YR2020</td>\n",
       "      <td>Africa Western and Central</td>\n",
       "      <td>AFW</td>\n",
       "      <td>47.857831</td>\n",
       "      <td>AFRICA WESTERN AND CENTRAL</td>\n",
       "    </tr>\n",
       "    <tr>\n",
       "      <th>3</th>\n",
       "      <td>2020</td>\n",
       "      <td>YR2020</td>\n",
       "      <td>Albania</td>\n",
       "      <td>ALB</td>\n",
       "      <td>62.112000</td>\n",
       "      <td>ALBANIA</td>\n",
       "    </tr>\n",
       "    <tr>\n",
       "      <th>4</th>\n",
       "      <td>2020</td>\n",
       "      <td>YR2020</td>\n",
       "      <td>Algeria</td>\n",
       "      <td>DZA</td>\n",
       "      <td>73.733000</td>\n",
       "      <td>ALGERIA</td>\n",
       "    </tr>\n",
       "    <tr>\n",
       "      <th>5</th>\n",
       "      <td>2020</td>\n",
       "      <td>YR2020</td>\n",
       "      <td>American Samoa</td>\n",
       "      <td>ASM</td>\n",
       "      <td>87.153000</td>\n",
       "      <td>AMERICAN SAMOA</td>\n",
       "    </tr>\n",
       "    <tr>\n",
       "      <th>6</th>\n",
       "      <td>2020</td>\n",
       "      <td>YR2020</td>\n",
       "      <td>Andorra</td>\n",
       "      <td>AND</td>\n",
       "      <td>87.916000</td>\n",
       "      <td>ANDORRA</td>\n",
       "    </tr>\n",
       "    <tr>\n",
       "      <th>...</th>\n",
       "      <td>...</td>\n",
       "      <td>...</td>\n",
       "      <td>...</td>\n",
       "      <td>...</td>\n",
       "      <td>...</td>\n",
       "      <td>...</td>\n",
       "    </tr>\n",
       "    <tr>\n",
       "      <th>258</th>\n",
       "      <td>2020</td>\n",
       "      <td>YR2020</td>\n",
       "      <td>Venezuela, RB</td>\n",
       "      <td>VEN</td>\n",
       "      <td>88.279000</td>\n",
       "      <td>VENEZUELA, RB</td>\n",
       "    </tr>\n",
       "    <tr>\n",
       "      <th>260</th>\n",
       "      <td>2020</td>\n",
       "      <td>YR2020</td>\n",
       "      <td>Virgin Islands (U.S.)</td>\n",
       "      <td>VIR</td>\n",
       "      <td>95.939000</td>\n",
       "      <td>VIRGIN ISLANDS (U.S.)</td>\n",
       "    </tr>\n",
       "    <tr>\n",
       "      <th>261</th>\n",
       "      <td>2020</td>\n",
       "      <td>YR2020</td>\n",
       "      <td>West Bank and Gaza</td>\n",
       "      <td>PSE</td>\n",
       "      <td>76.719000</td>\n",
       "      <td>WEST BANK AND GAZA</td>\n",
       "    </tr>\n",
       "    <tr>\n",
       "      <th>262</th>\n",
       "      <td>2020</td>\n",
       "      <td>YR2020</td>\n",
       "      <td>World</td>\n",
       "      <td>WLD</td>\n",
       "      <td>56.063764</td>\n",
       "      <td>WORLD</td>\n",
       "    </tr>\n",
       "    <tr>\n",
       "      <th>264</th>\n",
       "      <td>2020</td>\n",
       "      <td>YR2020</td>\n",
       "      <td>Zambia</td>\n",
       "      <td>ZMB</td>\n",
       "      <td>44.629000</td>\n",
       "      <td>ZAMBIA</td>\n",
       "    </tr>\n",
       "  </tbody>\n",
       "</table>\n",
       "<p>197 rows × 6 columns</p>\n",
       "</div>"
      ],
      "text/plain": [
       "     year yearcode                 countryname countrycode  \\\n",
       "2    2020   YR2020  Africa Western and Central         AFW   \n",
       "3    2020   YR2020                     Albania         ALB   \n",
       "4    2020   YR2020                     Algeria         DZA   \n",
       "5    2020   YR2020              American Samoa         ASM   \n",
       "6    2020   YR2020                     Andorra         AND   \n",
       "..    ...      ...                         ...         ...   \n",
       "258  2020   YR2020               Venezuela, RB         VEN   \n",
       "260  2020   YR2020       Virgin Islands (U.S.)         VIR   \n",
       "261  2020   YR2020          West Bank and Gaza         PSE   \n",
       "262  2020   YR2020                       World         WLD   \n",
       "264  2020   YR2020                      Zambia         ZMB   \n",
       "\n",
       "     prop_urbanpopulation           countryname_upper  \n",
       "2               47.857831  AFRICA WESTERN AND CENTRAL  \n",
       "3               62.112000                     ALBANIA  \n",
       "4               73.733000                     ALGERIA  \n",
       "5               87.153000              AMERICAN SAMOA  \n",
       "6               87.916000                     ANDORRA  \n",
       "..                    ...                         ...  \n",
       "258             88.279000               VENEZUELA, RB  \n",
       "260             95.939000       VIRGIN ISLANDS (U.S.)  \n",
       "261             76.719000          WEST BANK AND GAZA  \n",
       "262             56.063764                       WORLD  \n",
       "264             44.629000                      ZAMBIA  \n",
       "\n",
       "[197 rows x 6 columns]"
      ]
     },
     "metadata": {},
     "output_type": "display_data"
    }
   ],
   "source": [
    "# Write your own code here\n",
    "twentyfive = np.nanpercentile(wdi_2020[\"prop_urbanpopulation\"], 25)\n",
    "higher = wdi_2020.query(\"prop_urbanpopulation > @twentyfive\")\n",
    "display(higher)"
   ]
  },
  {
   "attachments": {},
   "cell_type": "markdown",
   "metadata": {},
   "source": [
    "<font size = \"5\">\n",
    "\n",
    "(e) Plot by category\n",
    "\n",
    "<font size = \"3\">\n",
    "\n",
    "- Read \"data/wdi_urban.csv\"<br>\n",
    "This contains data from 1980 and 2020\n",
    "\n",
    "- Create a list with the unique values of \"year\"\n",
    "- Create a plot with a ...\n",
    "    - Histogram of \"prop_urbanpopulation\" <br>\n",
    "    for each year\n",
    "    - Set the histogram option ``` alpha = 0.5 ``` for transparency\n",
    "    - All the histograms should be overlapping\n",
    "    - Create a legend with the list of years\n",
    "    - Label the axes and the title\n",
    "\n",
    "What do we learn from the graph?\n",
    "\n",
    "HINT: See the example at the end of Lecture 10\n"
   ]
  },
  {
   "cell_type": "code",
   "execution_count": 68,
   "metadata": {},
   "outputs": [
    {
     "name": "stdout",
     "output_type": "stream",
     "text": [
      "We can learn from the graph that the urbanpopuation in 2020 is larger than urbanpopulation in 1980.\n"
     ]
    },
    {
     "data": {
      "image/png": "[encoded data removed]",
      "text/plain": [
       "<Figure size 640x480 with 1 Axes>"
      ]
     },
     "metadata": {},
     "output_type": "display_data"
    }
   ],
   "source": [
    "# Write your own code here\n",
    "urban_data = pd.read_csv(\"data/wdi_urban.csv\")\n",
    "urban_unique = pd.unique(urban_data[\"year\"])\n",
    "for year in urban_unique:\n",
    "    plt.hist(x= urban_data[urban_data['year'] == year][\"prop_urbanpopulation\"],alpha = 0.5)\n",
    "\n",
    "plt.legend(labels = urban_data)\n",
    "plt.title(\"histogram\")\n",
    "plt.xlabel(\"urbanpopulation\")\n",
    "plt.ylabel(\"frequency\")\n",
    "\n",
    "print(\"We can learn from the graph that the urbanpopuation in 2020 is larger than urbanpopulation in 1980.\")"
   ]
  }
 ],
 "metadata": {
  "kernelspec": {
   "display_name": "base",
   "language": "python",
   "name": "python3"
  },
  "language_info": {
   "codemirror_mode": {
    "name": "ipython",
    "version": 3
   },
   "file_extension": ".py",
   "mimetype": "text/x-python",
   "name": "python",
   "nbconvert_exporter": "python",
   "pygments_lexer": "ipython3",
   "version": "3.11.4"
  },
  "orig_nbformat": 4,
  "vscode": {
   "interpreter": {
    "hash": "45fc1f684f6f416f40889115beff3ddf69879b64cf4bfee48cb72a61e9d15d1a"
   }
  }
 },
 "nbformat": 4,
 "nbformat_minor": 2
}
