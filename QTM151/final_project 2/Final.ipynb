{
 "cells": [
  {
   "cell_type": "markdown",
   "metadata": {},
   "source": []
  },
  {
   "attachments": {},
   "cell_type": "markdown",
   "metadata": {},
   "source": [
    "# <span style=\"color:darkblue\"> Compare Top Three Team Performance in Formula 1 in last 8 years </span>"
   ]
  },
  {
   "attachments": {},
   "cell_type": "markdown",
   "metadata": {},
   "source": [
    "(Section 3) Group member: Yunnie Yu, Doris Fang, Ran Chao, Yijia Sui"
   ]
  },
  {
   "attachments": {},
   "cell_type": "markdown",
   "metadata": {},
   "source": [
    "## <span style=\"color:darkblue\"> Introduction"
   ]
  },
  {
   "attachments": {},
   "cell_type": "markdown",
   "metadata": {},
   "source": [
    "Formula 1 is a global motorsport competition that has been running since 1950. It is known for its high-speed races, \n",
    "advanced engineering, and the skill of its drivers. In this project, we are interested in understanding how the performance of Formula 1 teams in recent years. We will use the Formula 1 dataset to analyze team performance matrics including points earned. By analyzing data, we hope to gain insights how team performances evovled over time.\n",
    "\n",
    "The structure of this project will be divided into several sections: We will starting by exploring the data, merging some of the datasets, and cleaning it to prepare for analysis. Then, we will perform descriptive analysis to gain a understanding of team performance over time. Finally, we will perform more advanced analysis, including statistical analysis, to gain deeper insights. \n",
    "\n"
   ]
  },
  {
   "attachments": {},
   "cell_type": "markdown",
   "metadata": {},
   "source": [
    "## <span style=\"color:darkblue\"> Data Description"
   ]
  },
  {
   "attachments": {},
   "cell_type": "markdown",
   "metadata": {},
   "source": [
    "### <span style=\"color:darkblue\"> Dataset Tables Description"
   ]
  },
  {
   "attachments": {},
   "cell_type": "markdown",
   "metadata": {},
   "source": [
    "For this project, we will use F1 datasets from 1950 to 2023. These datasets provide information on different entities in the competition. We will focus on three datasets: results.csv, races.csv, and constructors.csv. We have selected these datasets to analyze the performance evolution of different teams. Specifically, we will examine the top three teams in each year from 2015 to 2022 by ranking their average points. To accomplish this, we need to use the \"points\" column from the results.csv, the \"year\" column from races.csv, and the \"constructorRef\" column from constructors.csv."
   ]
  },
  {
   "cell_type": "code",
   "execution_count": 1,
   "metadata": {},
   "outputs": [
    {
     "data": {
      "text/plain": [
       "211"
      ]
     },
     "execution_count": 1,
     "metadata": {},
     "output_type": "execute_result"
    }
   ],
   "source": [
    "# import libraries\n",
    "import numpy as np\n",
    "import pandas as pd\n",
    "import matplotlib.pyplot as plt\n",
    "import matplotlib.pyplot as plt\n",
    "\n",
    "# import the data\n",
    "races = pd.read_csv(\"data_raw/races.csv\")\n",
    "results = pd.read_csv(\"data_raw/results.csv\")\n",
    "constructors = pd.read_csv(\"data_raw/constructors.csv\")\n",
    "\n",
    "# calculations for overviewing\n",
    "# calculate the length of rows in each dataset\n",
    "len(races)\n",
    "len(results)\n",
    "len(constructors)"
   ]
  },
  {
   "attachments": {},
   "cell_type": "markdown",
   "metadata": {},
   "source": [
    "### <span style=\"color:darkblue\"> Data Merging Procedures"
   ]
  },
  {
   "attachments": {},
   "cell_type": "markdown",
   "metadata": {},
   "source": [
    "The first thing we will do is to merge the dataset for further data cleaning and analysis. We merge results and races datatsets on the raceId columns by using inner join. Then, we merge it to constructor dataset on constructorId column by using inner join, too. Therefore, we get our big dataset, which named \"data1\". (change the name) (just merge some of the variables)"
   ]
  },
  {
   "cell_type": "code",
   "execution_count": 4,
   "metadata": {},
   "outputs": [],
   "source": [
    "# merge results and races\n",
    "results_races = pd.merge(results,\n",
    "                       races,\n",
    "                       on = \"raceId\", # key point\n",
    "                       how = \"inner\") # only returns rows that have matching values in both tables\n",
    "\n",
    "# merge results and constructors\n",
    "data1 = pd.merge(results_races,\n",
    "                       constructors,\n",
    "                       on = \"constructorId\", # key points\n",
    "                       how = \"inner\") # only returns rows that have matching values in both tables\n",
    "\n",
    "data = data1[[\"year\", \"name_y\", \"points\"]] # merge the three columns that we will use"
   ]
  },
  {
   "attachments": {},
   "cell_type": "markdown",
   "metadata": {},
   "source": [
    "### <span style=\"color:darkblue\"> Data Cleaning Procedures"
   ]
  },
  {
   "cell_type": "code",
   "execution_count": 7,
   "metadata": {},
   "outputs": [],
   "source": [
    "# First we use 'dtypes' to check the data type of data1 dataset and want to know type of each column.\n",
    "\n",
    "data.dtypes \n",
    "# change the column name into constructor for better understanding\n",
    "data = data.rename(columns={'name_y': 'constructors'}) "
   ]
  },
  {
   "cell_type": "code",
   "execution_count": 9,
   "metadata": {},
   "outputs": [
    {
     "name": "stdout",
     "output_type": "stream",
     "text": [
      "count       25840\n",
      "unique        210\n",
      "top       Ferrari\n",
      "freq         2347\n",
      "Name: constructors, dtype: object\n"
     ]
    }
   ],
   "source": [
    "# Second, base on our topic, we want to analyze the performance of each team. \n",
    "# So we check the type of team name in column \"connstructor Ref\"\n",
    "# We use the describe() method to check the basic information of \"constructorRef\" column \n",
    "# Additionally, we use the code dropna() method with the inplace=True parameter to drop any missing values in the \"constructorRef\" column. \n",
    "\n",
    "print(data[\"constructors\"].describe())\n",
    "data[\"constructors\"].dropna(inplace=True)"
   ]
  },
  {
   "cell_type": "code",
   "execution_count": 10,
   "metadata": {},
   "outputs": [],
   "source": [
    "# Base on our topic, we want to analyze the performance of team throughout the time period\n",
    "# So we want to check the datatype of \"year\" and variable in this column\n",
    "# We find that there are 73 different year, and datatype is already integer\n",
    "# So we do not need to do extra datacleaning process for \"year\"\n",
    "\n",
    "data['year'].value_counts(dropna=False)\n",
    "data[\"points\"].dropna(inplace=True)"
   ]
  },
  {
   "cell_type": "code",
   "execution_count": 11,
   "metadata": {},
   "outputs": [
    {
     "name": "stdout",
     "output_type": "stream",
     "text": [
      "0.00     18130\n",
      "2.00      1079\n",
      "4.00      1067\n",
      "6.00      1048\n",
      "1.00      1022\n",
      "3.00       823\n",
      "10.00      569\n",
      "9.00       442\n",
      "8.00       430\n",
      "12.00      251\n",
      "15.00      249\n",
      "18.00      240\n",
      "25.00      232\n",
      "5.00       134\n",
      "26.00       25\n",
      "19.00       17\n",
      "1.50        17\n",
      "7.00        13\n",
      "16.00        9\n",
      "13.00        7\n",
      "11.00        6\n",
      "0.50         6\n",
      "4.50         4\n",
      "1.33         3\n",
      "8.50         2\n",
      "6.50         2\n",
      "36.00        1\n",
      "12.50        1\n",
      "50.00        1\n",
      "3.14         1\n",
      "3.50         1\n",
      "4.14         1\n",
      "2.50         1\n",
      "24.00        1\n",
      "30.00        1\n",
      "20.00        1\n",
      "6.14         1\n",
      "8.14         1\n",
      "7.50         1\n",
      "Name: points, dtype: int64\n"
     ]
    },
    {
     "data": {
      "text/plain": [
       "count    25840.000000\n",
       "mean         1.877053\n",
       "std          4.169849\n",
       "min          0.000000\n",
       "25%          0.000000\n",
       "50%          0.000000\n",
       "75%          2.000000\n",
       "max         50.000000\n",
       "Name: points, dtype: float64"
      ]
     },
     "execution_count": 11,
     "metadata": {},
     "output_type": "execute_result"
    }
   ],
   "source": [
    "# Base on our topic, we want to analyze the performance of team throughout the time period\n",
    "# So we want to check the datatype of \"points\" and variable in this column\n",
    "# We find datatype is already integer and with two decimal places\n",
    "# So we do not need to do extra datacleaning process for \"points\"\n",
    "# There is no \"NA\" missing vaule, but it has 18130 nonmeaningful vaules, we will exclude them in the analysis.\n",
    "\n",
    "print(data['points'].value_counts(dropna=False))\n",
    "\n",
    "data[\"points\"].dropna(inplace=True)\n",
    "data['points'].describe()\n"
   ]
  },
  {
   "attachments": {},
   "cell_type": "markdown",
   "metadata": {},
   "source": [
    "### <span style=\"color:blue\"> Main Columns Descriptions"
   ]
  },
  {
   "attachments": {},
   "cell_type": "markdown",
   "metadata": {},
   "source": [
    "The main columns of interest in our merged dataset are the \"points\" and \"year\" columns. The \"points\" column represents the number of points awarded to each team for each race, based on the finishing positions of their drivers. The \"year\" column represents the year in which each race took place.\n",
    "(description of numbers ?)- average is XXX< std is xxxx>"
   ]
  },
  {
   "cell_type": "code",
   "execution_count": 12,
   "metadata": {},
   "outputs": [
    {
     "name": "stdout",
     "output_type": "stream",
     "text": [
      "          mean  median  amin  amax       std\n",
      "year                                        \n",
      "2015  5.076720    1.00   0.0  25.0  7.191724\n",
      "2016  4.590909    0.00   0.0  25.0  6.998866\n",
      "2017  5.050000    0.50   0.0  25.0  7.181674\n",
      "2018  5.050000    0.50   0.0  25.0  7.181245\n",
      "2019  5.095238    0.50   0.0  26.0  7.259623\n",
      "2020  5.100000    0.50   0.0  26.0  7.257302\n",
      "2021  4.976136    0.25   0.0  26.0  7.154415\n",
      "2022  5.095455    0.50   0.0  26.0  7.263663\n"
     ]
    }
   ],
   "source": [
    "# filter dataframe to include only points and year columns\n",
    "df_points_year = data[['points', 'year']].query('(year >=2015) ')\n",
    "\n",
    "# group data by year and calculate summary statistics for points column\n",
    "stats_by_year = df_points_year.groupby('year')['points'].agg([np.mean, np.median, np.min, np.max, np.std])\n",
    "\n",
    "# print table of descriptive statistics for points column by year\n",
    "print(stats_by_year)"
   ]
  },
  {
   "attachments": {},
   "cell_type": "markdown",
   "metadata": {},
   "source": [
    "## <span style=\"color:darkblue\"> Process & Results"
   ]
  },
  {
   "attachments": {},
   "cell_type": "markdown",
   "metadata": {},
   "source": [
    "To carry out the first part of our analysis, we gathered data on the mean points scored by all teams from 2015 to 2022 in the Formula 1 World Championship. We then calculated the mean points for each team over the period and ranked them accordingly. Our findings indicate that the top three teams in terms of mean points during this period were Mercedes, Red Bull, and Ferrari.\n",
    "\n"
   ]
  },
  {
   "cell_type": "code",
   "execution_count": 14,
   "metadata": {},
   "outputs": [
    {
     "data": {
      "text/html": [
       "<div>\n",
       "<style scoped>\n",
       "    .dataframe tbody tr th:only-of-type {\n",
       "        vertical-align: middle;\n",
       "    }\n",
       "\n",
       "    .dataframe tbody tr th {\n",
       "        vertical-align: top;\n",
       "    }\n",
       "\n",
       "    .dataframe thead th {\n",
       "        text-align: right;\n",
       "    }\n",
       "</style>\n",
       "<table border=\"1\" class=\"dataframe\">\n",
       "  <thead>\n",
       "    <tr style=\"text-align: right;\">\n",
       "      <th></th>\n",
       "      <th>mean_points</th>\n",
       "    </tr>\n",
       "    <tr>\n",
       "      <th>constructors</th>\n",
       "      <th></th>\n",
       "    </tr>\n",
       "  </thead>\n",
       "  <tbody>\n",
       "    <tr>\n",
       "      <th>Mercedes</th>\n",
       "      <td>18.650735</td>\n",
       "    </tr>\n",
       "    <tr>\n",
       "      <th>Red Bull</th>\n",
       "      <td>16.296392</td>\n",
       "    </tr>\n",
       "    <tr>\n",
       "      <th>Ferrari</th>\n",
       "      <td>15.102941</td>\n",
       "    </tr>\n",
       "    <tr>\n",
       "      <th>Lotus F1</th>\n",
       "      <td>15.000000</td>\n",
       "    </tr>\n",
       "    <tr>\n",
       "      <th>Aston Martin</th>\n",
       "      <td>14.000000</td>\n",
       "    </tr>\n",
       "    <tr>\n",
       "      <th>Racing Point</th>\n",
       "      <td>13.909091</td>\n",
       "    </tr>\n",
       "    <tr>\n",
       "      <th>Toro Rosso</th>\n",
       "      <td>13.500000</td>\n",
       "    </tr>\n",
       "    <tr>\n",
       "      <th>AlphaTauri</th>\n",
       "      <td>12.900000</td>\n",
       "    </tr>\n",
       "    <tr>\n",
       "      <th>Alpine F1 Team</th>\n",
       "      <td>12.600000</td>\n",
       "    </tr>\n",
       "    <tr>\n",
       "      <th>Renault</th>\n",
       "      <td>12.076923</td>\n",
       "    </tr>\n",
       "    <tr>\n",
       "      <th>McLaren</th>\n",
       "      <td>11.974359</td>\n",
       "    </tr>\n",
       "    <tr>\n",
       "      <th>Williams</th>\n",
       "      <td>11.833333</td>\n",
       "    </tr>\n",
       "    <tr>\n",
       "      <th>Force India</th>\n",
       "      <td>11.625000</td>\n",
       "    </tr>\n",
       "    <tr>\n",
       "      <th>Alfa Romeo</th>\n",
       "      <td>10.666667</td>\n",
       "    </tr>\n",
       "    <tr>\n",
       "      <th>Haas F1 Team</th>\n",
       "      <td>10.400000</td>\n",
       "    </tr>\n",
       "    <tr>\n",
       "      <th>Sauber</th>\n",
       "      <td>10.000000</td>\n",
       "    </tr>\n",
       "  </tbody>\n",
       "</table>\n",
       "</div>"
      ],
      "text/plain": [
       "                mean_points\n",
       "constructors               \n",
       "Mercedes          18.650735\n",
       "Red Bull          16.296392\n",
       "Ferrari           15.102941\n",
       "Lotus F1          15.000000\n",
       "Aston Martin      14.000000\n",
       "Racing Point      13.909091\n",
       "Toro Rosso        13.500000\n",
       "AlphaTauri        12.900000\n",
       "Alpine F1 Team    12.600000\n",
       "Renault           12.076923\n",
       "McLaren           11.974359\n",
       "Williams          11.833333\n",
       "Force India       11.625000\n",
       "Alfa Romeo        10.666667\n",
       "Haas F1 Team      10.400000\n",
       "Sauber            10.000000"
      ]
     },
     "metadata": {},
     "output_type": "display_data"
    }
   ],
   "source": [
    "point_total =(data. query ('(points >= 10) & (year >=2015)').groupby([\"constructors\"])\n",
    "            .agg(mean_points = ('points','mean'))\n",
    "                 .sort_values(by='mean_points',ascending =False))\n",
    "\n",
    "\n",
    "display(point_total)\n",
    "\n"
   ]
  },
  {
   "attachments": {},
   "cell_type": "markdown",
   "metadata": {},
   "source": [
    "After identifying the top teams, we wanted to analyze their performance in more detail. To achieve this, we utilized a multi-level bar chart to visualize their points scored from 2015 to 2022. The chart displays the performance of the three teams side by side, allowing us to compare their progress over time."
   ]
  },
  {
   "cell_type": "code",
   "execution_count": 15,
   "metadata": {},
   "outputs": [
    {
     "data": {
      "text/html": [
       "<div>\n",
       "<style scoped>\n",
       "    .dataframe tbody tr th:only-of-type {\n",
       "        vertical-align: middle;\n",
       "    }\n",
       "\n",
       "    .dataframe tbody tr th {\n",
       "        vertical-align: top;\n",
       "    }\n",
       "\n",
       "    .dataframe thead th {\n",
       "        text-align: right;\n",
       "    }\n",
       "</style>\n",
       "<table border=\"1\" class=\"dataframe\">\n",
       "  <thead>\n",
       "    <tr style=\"text-align: right;\">\n",
       "      <th></th>\n",
       "      <th></th>\n",
       "      <th>mean_points</th>\n",
       "    </tr>\n",
       "    <tr>\n",
       "      <th>constructors</th>\n",
       "      <th>year</th>\n",
       "      <th></th>\n",
       "    </tr>\n",
       "  </thead>\n",
       "  <tbody>\n",
       "    <tr>\n",
       "      <th>Red Bull</th>\n",
       "      <th>2022</th>\n",
       "      <td>20.264706</td>\n",
       "    </tr>\n",
       "    <tr>\n",
       "      <th>Ferrari</th>\n",
       "      <th>2022</th>\n",
       "      <td>16.100000</td>\n",
       "    </tr>\n",
       "    <tr>\n",
       "      <th>Mercedes</th>\n",
       "      <th>2022</th>\n",
       "      <td>14.000000</td>\n",
       "    </tr>\n",
       "    <tr>\n",
       "      <th>Red Bull</th>\n",
       "      <th>2021</th>\n",
       "      <td>18.145161</td>\n",
       "    </tr>\n",
       "    <tr>\n",
       "      <th>Ferrari</th>\n",
       "      <th>2021</th>\n",
       "      <td>12.687500</td>\n",
       "    </tr>\n",
       "    <tr>\n",
       "      <th rowspan=\"2\" valign=\"top\">Mercedes</th>\n",
       "      <th>2021</th>\n",
       "      <td>18.516129</td>\n",
       "    </tr>\n",
       "    <tr>\n",
       "      <th>2020</th>\n",
       "      <td>20.555556</td>\n",
       "    </tr>\n",
       "    <tr>\n",
       "      <th>Red Bull</th>\n",
       "      <th>2020</th>\n",
       "      <td>16.470588</td>\n",
       "    </tr>\n",
       "    <tr>\n",
       "      <th>Ferrari</th>\n",
       "      <th>2020</th>\n",
       "      <td>13.428571</td>\n",
       "    </tr>\n",
       "    <tr>\n",
       "      <th>Red Bull</th>\n",
       "      <th>2019</th>\n",
       "      <td>14.208333</td>\n",
       "    </tr>\n",
       "    <tr>\n",
       "      <th>Mercedes</th>\n",
       "      <th>2019</th>\n",
       "      <td>19.648649</td>\n",
       "    </tr>\n",
       "    <tr>\n",
       "      <th>Ferrari</th>\n",
       "      <th>2019</th>\n",
       "      <td>15.030303</td>\n",
       "    </tr>\n",
       "    <tr>\n",
       "      <th>Mercedes</th>\n",
       "      <th>2018</th>\n",
       "      <td>17.432432</td>\n",
       "    </tr>\n",
       "    <tr>\n",
       "      <th>Red Bull</th>\n",
       "      <th>2018</th>\n",
       "      <td>15.115385</td>\n",
       "    </tr>\n",
       "    <tr>\n",
       "      <th>Ferrari</th>\n",
       "      <th>2018</th>\n",
       "      <td>16.454545</td>\n",
       "    </tr>\n",
       "    <tr>\n",
       "      <th>Mercedes</th>\n",
       "      <th>2017</th>\n",
       "      <td>18.111111</td>\n",
       "    </tr>\n",
       "    <tr>\n",
       "      <th>Red Bull</th>\n",
       "      <th>2017</th>\n",
       "      <td>14.360000</td>\n",
       "    </tr>\n",
       "    <tr>\n",
       "      <th rowspan=\"2\" valign=\"top\">Ferrari</th>\n",
       "      <th>2017</th>\n",
       "      <td>15.937500</td>\n",
       "    </tr>\n",
       "    <tr>\n",
       "      <th>2016</th>\n",
       "      <td>13.307692</td>\n",
       "    </tr>\n",
       "    <tr>\n",
       "      <th>Mercedes</th>\n",
       "      <th>2016</th>\n",
       "      <td>20.351351</td>\n",
       "    </tr>\n",
       "    <tr>\n",
       "      <th>Red Bull</th>\n",
       "      <th>2016</th>\n",
       "      <td>15.000000</td>\n",
       "    </tr>\n",
       "    <tr>\n",
       "      <th>Mercedes</th>\n",
       "      <th>2015</th>\n",
       "      <td>20.939394</td>\n",
       "    </tr>\n",
       "    <tr>\n",
       "      <th>Red Bull</th>\n",
       "      <th>2015</th>\n",
       "      <td>13.000000</td>\n",
       "    </tr>\n",
       "    <tr>\n",
       "      <th>Ferrari</th>\n",
       "      <th>2015</th>\n",
       "      <td>15.037037</td>\n",
       "    </tr>\n",
       "  </tbody>\n",
       "</table>\n",
       "</div>"
      ],
      "text/plain": [
       "                   mean_points\n",
       "constructors year             \n",
       "Red Bull     2022    20.264706\n",
       "Ferrari      2022    16.100000\n",
       "Mercedes     2022    14.000000\n",
       "Red Bull     2021    18.145161\n",
       "Ferrari      2021    12.687500\n",
       "Mercedes     2021    18.516129\n",
       "             2020    20.555556\n",
       "Red Bull     2020    16.470588\n",
       "Ferrari      2020    13.428571\n",
       "Red Bull     2019    14.208333\n",
       "Mercedes     2019    19.648649\n",
       "Ferrari      2019    15.030303\n",
       "Mercedes     2018    17.432432\n",
       "Red Bull     2018    15.115385\n",
       "Ferrari      2018    16.454545\n",
       "Mercedes     2017    18.111111\n",
       "Red Bull     2017    14.360000\n",
       "Ferrari      2017    15.937500\n",
       "             2016    13.307692\n",
       "Mercedes     2016    20.351351\n",
       "Red Bull     2016    15.000000\n",
       "Mercedes     2015    20.939394\n",
       "Red Bull     2015    13.000000\n",
       "Ferrari      2015    15.037037"
      ]
     },
     "metadata": {},
     "output_type": "display_data"
    },
    {
     "data": {
      "image/png": "[encoded data removed]",
      "text/plain": [
       "<Figure size 432x288 with 1 Axes>"
      ]
     },
     "metadata": {
      "needs_background": "light"
     },
     "output_type": "display_data"
    }
   ],
   "source": [
    "point_agg = (data. query ('(points >= 10) & (constructors in [\"Ferrari\",\"Mercedes\",\"Red Bull\"])& (year >=2015) ').groupby([\"constructors\", 'year'])\n",
    "            .agg(mean_points = ('points','mean'))\n",
    "                 .sort_values(by='year',ascending =False))\n",
    "\n",
    "df= pd.DataFrame(point_agg, columns=[\"mean_points\"])\n",
    "display(df)\n",
    "df.unstack(\"constructors\").plot(kind = \"bar\",stacked = False)\n",
    "plt.title(\"Bar Chart\")\n",
    "plt.ylabel(\"mean_points\")\n",
    "\n",
    "plt.show()"
   ]
  },
  {
   "attachments": {},
   "cell_type": "markdown",
   "metadata": {},
   "source": [
    "Upon examining the chart, we noticed that Red Bull's performance stands out compared to Mercedes and Ferrari. While all three teams have experienced their ups and downs over the years, Red Bull's chart consistently shows an upward trend from 2015 to 2022, suggesting that they have made significant improvements and advancements in their performance over time. On the other hand, Mercedes and Ferrari's charts show a more inconsistent trend, with fluctuations in their performance from year to year. While both teams have had successful seasons, their overall progress seems to be less consistent compared to Red Bull's upward trend.\n",
    "\n"
   ]
  },
  {
   "cell_type": "code",
   "execution_count": 16,
   "metadata": {},
   "outputs": [
    {
     "name": "stdout",
     "output_type": "stream",
     "text": [
      "                   mean     median     amin       amax       std\n",
      "constructors                                                    \n",
      "Ferrari       14.747894  15.033670  12.6875  16.454545  1.433247\n",
      "Mercedes      18.694328  19.082389  14.0000  20.939394  2.272882\n",
      "Red Bull      15.820522  15.057692  13.0000  20.264706  2.373527\n"
     ]
    }
   ],
   "source": [
    "# filter dataframe to include only points and team name columns\n",
    "df_points_year = df[['mean_points']]\n",
    "\n",
    "# group data by team and calculate summary statistics for points column\n",
    "stats_by_team = df.groupby('constructors')['mean_points'].agg([np.mean, np.median, np.min, np.max, np.std])\n",
    "\n",
    "# print table of descriptive statistics for points column by team\n",
    "print(stats_by_team)\n"
   ]
  },
  {
   "attachments": {},
   "cell_type": "markdown",
   "metadata": {},
   "source": [
    "We then took a further step in investigating Red Bull's increasing trend. In addition to the multi-level bar chart, we have also created a line chart that specifically shows Red Bull's mean points record from 2015 to 2022. This chart provides a more detailed view of Red Bull's performance over the years and allows us to observe their progress more closely."
   ]
  },
  {
   "cell_type": "code",
   "execution_count": 17,
   "metadata": {},
   "outputs": [
    {
     "data": {
      "text/html": [
       "<div>\n",
       "<style scoped>\n",
       "    .dataframe tbody tr th:only-of-type {\n",
       "        vertical-align: middle;\n",
       "    }\n",
       "\n",
       "    .dataframe tbody tr th {\n",
       "        vertical-align: top;\n",
       "    }\n",
       "\n",
       "    .dataframe thead th {\n",
       "        text-align: right;\n",
       "    }\n",
       "</style>\n",
       "<table border=\"1\" class=\"dataframe\">\n",
       "  <thead>\n",
       "    <tr style=\"text-align: right;\">\n",
       "      <th></th>\n",
       "      <th></th>\n",
       "      <th>mean_points</th>\n",
       "    </tr>\n",
       "    <tr>\n",
       "      <th>constructors</th>\n",
       "      <th>year</th>\n",
       "      <th></th>\n",
       "    </tr>\n",
       "  </thead>\n",
       "  <tbody>\n",
       "    <tr>\n",
       "      <th rowspan=\"8\" valign=\"top\">Red Bull</th>\n",
       "      <th>2015</th>\n",
       "      <td>13.000000</td>\n",
       "    </tr>\n",
       "    <tr>\n",
       "      <th>2016</th>\n",
       "      <td>15.000000</td>\n",
       "    </tr>\n",
       "    <tr>\n",
       "      <th>2017</th>\n",
       "      <td>14.360000</td>\n",
       "    </tr>\n",
       "    <tr>\n",
       "      <th>2018</th>\n",
       "      <td>15.115385</td>\n",
       "    </tr>\n",
       "    <tr>\n",
       "      <th>2019</th>\n",
       "      <td>14.208333</td>\n",
       "    </tr>\n",
       "    <tr>\n",
       "      <th>2020</th>\n",
       "      <td>16.470588</td>\n",
       "    </tr>\n",
       "    <tr>\n",
       "      <th>2021</th>\n",
       "      <td>18.145161</td>\n",
       "    </tr>\n",
       "    <tr>\n",
       "      <th>2022</th>\n",
       "      <td>20.264706</td>\n",
       "    </tr>\n",
       "  </tbody>\n",
       "</table>\n",
       "</div>"
      ],
      "text/plain": [
       "                   mean_points\n",
       "constructors year             \n",
       "Red Bull     2015    13.000000\n",
       "             2016    15.000000\n",
       "             2017    14.360000\n",
       "             2018    15.115385\n",
       "             2019    14.208333\n",
       "             2020    16.470588\n",
       "             2021    18.145161\n",
       "             2022    20.264706"
      ]
     },
     "metadata": {},
     "output_type": "display_data"
    },
    {
     "data": {
      "image/png": "[encoded data removed]",
      "text/plain": [
       "<Figure size 432x288 with 1 Axes>"
      ]
     },
     "metadata": {
      "needs_background": "light"
     },
     "output_type": "display_data"
    }
   ],
   "source": [
    "redbull1 = (data. query ('(points >= 10) & (constructors in [\"Red Bull\"])& (year >=2015) ').groupby([ \"constructors\",'year'])\n",
    "            .agg(mean_points = ('points','mean'))\n",
    "                 )\n",
    "\n",
    "df1= pd.DataFrame(redbull1, columns=[\"mean_points\"])\n",
    "display(df1)\n",
    "df1.unstack(\"constructors\").plot(kind = \"bar\",stacked = False)\n",
    "plt.title(\"Red Bull Growth Trend\")\n",
    "plt.ylabel(\"mean_points\")\n",
    "plt.legend(title  = \"Red Bull Mean Points\")\n",
    "plt.show()\n"
   ]
  },
  {
   "attachments": {},
   "cell_type": "markdown",
   "metadata": {},
   "source": [
    "Upon analyzing the Bar chart, we can see that Red Bull's mean points have steadily increased over the years, with a steady growing trend in 2019, 2020, 2021 and 2022. This upward trend is consistent with what we observed in the multi-level bar chart, further emphasizing the team's consistent improvement in performance over time. We then want to formulate a linear regreassion model to better track its evelovment overtime"
   ]
  },
  {
   "cell_type": "code",
   "execution_count": 23,
   "metadata": {},
   "outputs": [
    {
     "name": "stdout",
     "output_type": "stream",
     "text": [
      "0.8571840357144087\n",
      "1.9843691999993915\n"
     ]
    },
    {
     "data": {
      "image/png": "[encoded data removed]",
      "text/plain": [
       "<Figure size 432x288 with 1 Axes>"
      ]
     },
     "metadata": {
      "needs_background": "light"
     },
     "output_type": "display_data"
    }
   ],
   "source": [
    "x = np.array([2015, 2016, 2017, 2018, 2019,2020, 2021, 2022])\n",
    "y = np.array([13.000000, 15.000000, 14.360000, 15.115385, 14.208333, 16.470588, 18.145161, 20.264706])\n",
    "\n",
    "#find line of best fit\n",
    "a, b = np.polyfit(x, y, 1)\n",
    "\n",
    "#add points to plot\n",
    "plt.scatter(x, y)\n",
    "\n",
    "#add line of best fit to plot\n",
    "plt.plot(x, a*x+b) \n",
    "print(a)\n",
    "\n",
    "x1 = np.array([2019, 2020, 2021, 2022])\n",
    "y1 = np.array([14.208333, 16.470588, 18.145161, 20.264706])\n",
    "\n",
    "#find line of best fit from 2019 to 2022\n",
    "a1, b1 = np.polyfit(x1, y1, 1)\n",
    "\n",
    "#add points to plot\n",
    "plt.scatter(x1, y1)\n",
    "\n",
    "#add line of best fit to this specific trend\n",
    "plt.plot(x1, a1*x1+b1) \n",
    "print(a1)\n"
   ]
  },
  {
   "attachments": {},
   "cell_type": "markdown",
   "metadata": {},
   "source": [
    "## <span style=\"color:darkblue\"> Discussion"
   ]
  },
  {
   "attachments": {},
   "cell_type": "markdown",
   "metadata": {},
   "source": [
    "Upon examining the chart, we noticed that Red Bull's performance stands out compared to Mercedes and Ferrari. While all three teams have experienced their ups and downs over the years, Red Bull's chart consistently shows an upward trend from 2015 to 2022, suggesting that they have made significant improvements and advancements in their performance over time.\n",
    "\n",
    "On the other hand, Mercedes and Ferrari's charts show a more inconsistent trend, with fluctuations in their performance from year to year. While both teams have had successful seasons, their overall progress seems to be less consistent compared to Red Bull's upward trend.\n",
    "\n",
    "This analysis highlights the importance of consistent performance in the world of Formula 1, as seen in Red Bull's progression over the years. It also emphasizes the significance of utilizing data visualization tools like multi-level bar charts to gain insights and make informed decisions based on data-driven analysis. Overall, this analysis provides valuable insights into the performance of the top teams in the Formula 1 World Championship from 2015 to 2022."
   ]
  }
 ],
 "metadata": {
  "kernelspec": {
   "display_name": "base",
   "language": "python",
   "name": "python3"
  },
  "language_info": {
   "codemirror_mode": {
    "name": "ipython",
    "version": 3
   },
   "file_extension": ".py",
   "mimetype": "text/x-python",
   "name": "python",
   "nbconvert_exporter": "python",
   "pygments_lexer": "ipython3",
   "version": "3.9.12"
  },
  "orig_nbformat": 4,
  "vscode": {
   "interpreter": {
    "hash": "2ae8b3bc99df9bdfbf628dcf9c320a3efd18eb9a7555fb3a2fdf71764bae08ee"
   }
  }
 },
 "nbformat": 4,
 "nbformat_minor": 2
}
