{
 "cells": [
  {
   "cell_type": "markdown",
   "metadata": {},
   "source": []
  },
  {
   "attachments": {},
   "cell_type": "markdown",
   "metadata": {},
   "source": [
    "# <span style=\"color:darkblue\"> How Has the Performance of Formula 1 Teams Evolved Over Time? </span>"
   ]
  },
  {
   "attachments": {},
   "cell_type": "markdown",
   "metadata": {},
   "source": [
    "(Section 3) Group member: Yunnie Yu, Doris Fang, Ran Chao, Yijia Sui"
   ]
  },
  {
   "attachments": {},
   "cell_type": "markdown",
   "metadata": {},
   "source": [
    "## <span style=\"color:darkblue\"> Introduction"
   ]
  },
  {
   "attachments": {},
   "cell_type": "markdown",
   "metadata": {},
   "source": [
    "Formula 1 is a global motorsport competition that has been running since 1950. It is known for its high-speed races, \n",
    "advanced engineering, and the skill of its drivers. In this project, we are interested in understanding how the performance of Formula 1 teams has evolved over time. We will use the Formula 1 dataset to analyze team performance matrics such as numbers of wins, podium finishes, and points earned. By analyzing data, we hope to gain insights into the factors that have influenced team performance.\n",
    "\n",
    "The results of our analysis...(most successful teams and drivers over time, factors contributed to their success...rule changes...technological advancements...etc)\n",
    "\n",
    "The structure of this project will be divided into several sections: We will starting by exploring the data, merging some of the datasets, and cleaning it to prepare for analysis. Then, we will perform descriptive analysis to gain a understanding of team performance over time. Finally, we will perform more advanced analysis, including statistical analysis, to gain deeper insights into the factors that have influenced team performance. \n",
    "\n"
   ]
  },
  {
   "attachments": {},
   "cell_type": "markdown",
   "metadata": {},
   "source": [
    "## <span style=\"color:darkblue\"> Data Description"
   ]
  },
  {
   "attachments": {},
   "cell_type": "markdown",
   "metadata": {},
   "source": [
    "### <span style=\"color:darkblue\"> Dataset Tables Description"
   ]
  },
  {
   "attachments": {},
   "cell_type": "markdown",
   "metadata": {},
   "source": [
    "For this project, we will be using the following tables:\n",
    "\n",
    "1. results.csv - contains information about finishing position, lap times, and points earned by each driver in each race. Each row represents the performance of a single driver in a single race. There aere 25840 observations in this table, covering the years from 1950 to 2023. \n",
    "\n",
    "2. races.csv - contains information about each race, including the date, location, and winner. Each row represents a single race. There are 1102 observations in this table, covering the years from 1950 to 2023.\n",
    "\n",
    "3. constructors.csv - contains information about the teams that participate in each race. Each row represents a single team. There are 211 observations in this table, covering the years from 1950 to 2023. \n"
   ]
  },
  {
   "cell_type": "code",
   "execution_count": 4,
   "metadata": {},
   "outputs": [
    {
     "data": {
      "text/plain": [
       "211"
      ]
     },
     "execution_count": 4,
     "metadata": {},
     "output_type": "execute_result"
    }
   ],
   "source": [
    "# import libraries\n",
    "import numpy as np\n",
    "import pandas as pd\n",
    "import matplotlib.pyplot as plt\n",
    "\n",
    "# import the data\n",
    "races = pd.read_csv(\"data_raw/races.csv\")\n",
    "results = pd.read_csv(\"data_raw/results.csv\")\n",
    "constructors = pd.read_csv(\"data_raw/constructors.csv\")\n",
    "\n",
    "# calculations for overviewing\n",
    "# calculate the length of rows in each dataset\n",
    "len(races)\n",
    "len(results)\n",
    "len(constructors)"
   ]
  },
  {
   "attachments": {},
   "cell_type": "markdown",
   "metadata": {},
   "source": [
    "### <span style=\"color:darkblue\"> Data Merging Procedures"
   ]
  },
  {
   "attachments": {},
   "cell_type": "markdown",
   "metadata": {},
   "source": [
    "The first thing we will do is to merge the dataset for further data cleaning and analysis. We merge results and races datatsets on the raceId columns by using inner join. Then, we merge it to constructor dataset on constructorId column by using inner join, too. Therefore, we get our big dataset, which named \"data1\". "
   ]
  },
  {
   "cell_type": "code",
   "execution_count": 9,
   "metadata": {},
   "outputs": [],
   "source": [
    "# merge results and races\n",
    "results_races = pd.merge(results,\n",
    "                       races,\n",
    "                       on = \"raceId\", # key point\n",
    "                       how = \"inner\") # only returns rows that have matching values in both tables\n",
    "\n",
    "# merge results and constructors\n",
    "data1 = pd.merge(results_races,\n",
    "                       constructors,\n",
    "                       on = \"constructorId\", # key points\n",
    "                       how = \"inner\") # only returns rows that have matching values in both tables"
   ]
  },
  {
   "attachments": {},
   "cell_type": "markdown",
   "metadata": {},
   "source": [
    "### <span style=\"color:darkblue\"> Data Cleaning Procedures"
   ]
  },
  {
   "cell_type": "code",
   "execution_count": 11,
   "metadata": {},
   "outputs": [
    {
     "data": {
      "text/plain": [
       "resultId             int64\n",
       "raceId               int64\n",
       "driverId             int64\n",
       "constructorId        int64\n",
       "number              object\n",
       "grid                 int64\n",
       "position            object\n",
       "positionText        object\n",
       "positionOrder        int64\n",
       "points             float64\n",
       "laps                 int64\n",
       "time_x              object\n",
       "milliseconds        object\n",
       "fastestLap          object\n",
       "rank                object\n",
       "fastestLapTime      object\n",
       "fastestLapSpeed     object\n",
       "statusId             int64\n",
       "year                 int64\n",
       "round                int64\n",
       "circuitId            int64\n",
       "name_x              object\n",
       "date                object\n",
       "time_y              object\n",
       "url_x               object\n",
       "fp1_date            object\n",
       "fp1_time            object\n",
       "fp2_date            object\n",
       "fp2_time            object\n",
       "fp3_date            object\n",
       "fp3_time            object\n",
       "quali_date          object\n",
       "quali_time          object\n",
       "sprint_date         object\n",
       "sprint_time         object\n",
       "constructorRef      object\n",
       "name_y              object\n",
       "nationality         object\n",
       "url_y               object\n",
       "dtype: object"
      ]
     },
     "execution_count": 11,
     "metadata": {},
     "output_type": "execute_result"
    }
   ],
   "source": [
    "# check the data type of data1 dataset\n",
    "data1.dtypes"
   ]
  },
  {
   "attachments": {},
   "cell_type": "markdown",
   "metadata": {},
   "source": [
    "### <span style=\"color:darkblue\"> Main Columns Descriptions"
   ]
  },
  {
   "attachments": {},
   "cell_type": "markdown",
   "metadata": {},
   "source": [
    "## <span style=\"color:darkblue\"> Results"
   ]
  },
  {
   "attachments": {},
   "cell_type": "markdown",
   "metadata": {},
   "source": [
    "## <span style=\"color:darkblue\"> Discussion"
   ]
  }
 ],
 "metadata": {
  "kernelspec": {
   "display_name": "base",
   "language": "python",
   "name": "python3"
  },
  "language_info": {
   "codemirror_mode": {
    "name": "ipython",
    "version": 3
   },
   "file_extension": ".py",
   "mimetype": "text/x-python",
   "name": "python",
   "nbconvert_exporter": "python",
   "pygments_lexer": "ipython3",
   "version": "3.9.12"
  },
  "orig_nbformat": 4
 },
 "nbformat": 4,
 "nbformat_minor": 2
}
