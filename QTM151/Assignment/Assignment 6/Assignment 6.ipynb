{
 "cells": [
  {
   "attachments": {},
   "cell_type": "markdown",
   "metadata": {},
   "source": [
    "# Assignment 6"
   ]
  },
  {
   "attachments": {},
   "cell_type": "markdown",
   "metadata": {},
   "source": [
    "## Try to submit as an HTML file"
   ]
  },
  {
   "attachments": {},
   "cell_type": "markdown",
   "metadata": {},
   "source": [
    "<font size = \"5\">\n",
    "Print your name below"
   ]
  },
  {
   "cell_type": "code",
   "execution_count": 3,
   "metadata": {},
   "outputs": [
    {
     "name": "stdout",
     "output_type": "stream",
     "text": [
      "Yunne Yu\n"
     ]
    }
   ],
   "source": [
    "print(\"Yunne Yu\")"
   ]
  },
  {
   "attachments": {},
   "cell_type": "markdown",
   "metadata": {},
   "source": [
    "<font size = \"5\">\n",
    "\n",
    "Import the \"pandas\" and \"matplotlib.pyplot\" library"
   ]
  },
  {
   "cell_type": "code",
   "execution_count": 4,
   "metadata": {},
   "outputs": [],
   "source": [
    "# Write your answer here:\n",
    "import pandas as pd\n",
    "import matplotlib.pyplot as plt"
   ]
  },
  {
   "attachments": {},
   "cell_type": "markdown",
   "metadata": {},
   "source": [
    "<font size = \"5\">\n",
    "\n",
    "(a) Compute function for each individual (map)\n",
    "\n",
    "<font size = \"3\">\n",
    "\n",
    "- Import the datset \"data/investment.csv\"\n",
    "- Write a lambda function for $V = P/(1+r)$.\n",
    "- Use ```list(map(...))``` to calculate $V$ for each row of the dataset\n"
   ]
  },
  {
   "cell_type": "code",
   "execution_count": 5,
   "metadata": {},
   "outputs": [
    {
     "data": {
      "text/plain": [
       "[990.09900990099,\n",
       " 1960.7843137254902,\n",
       " 485.43689320388347,\n",
       " 769.2307692307692,\n",
       " 370.3703703703703]"
      ]
     },
     "execution_count": 5,
     "metadata": {},
     "output_type": "execute_result"
    }
   ],
   "source": [
    "# Write your own code here\n",
    "invest = pd.read_csv(\"data/investment.csv\")\n",
    "fn_v = lambda P,r: P / (1+r)\n",
    "list(map(fn_v, invest[\"P\"], invest[\"r\"]))"
   ]
  },
  {
   "attachments": {},
   "cell_type": "markdown",
   "metadata": {},
   "source": [
    "<font size = \"5\">\n",
    "\n",
    "(b) Convert to upper case\n",
    "\n",
    "<font size = \"3\">\n",
    "\n",
    "- Create the following function to convert a string to upper case\n",
    "\n",
    "$\\quad$ ``` fn_upper = lambda x: x.upper() ```\n",
    "\n",
    "- Create a new column, \"countryname_upper\"  <br>\n",
    "that converts \"countryname\" to upper case."
   ]
  },
  {
   "cell_type": "code",
   "execution_count": 5,
   "metadata": {},
   "outputs": [],
   "source": [
    "# Write your own code here\n",
    "fn_upper = lambda x: x.upper()\n",
    "wdi = pd.read_csv(\"data/wdi_2020.csv\")\n",
    "wdi[\"countryname_upper\"] = list(map(fn_upper, wdi[\"countryname\"]))"
   ]
  },
  {
   "attachments": {},
   "cell_type": "markdown",
   "metadata": {},
   "source": [
    "<font size = \"5\">\n",
    "For questions (b)-(d), read \"data/wdi_2020.csv\" "
   ]
  },
  {
   "attachments": {},
   "cell_type": "markdown",
   "metadata": {},
   "source": [
    "<font size = \"5\">\n",
    "\n",
    "(c) Extract sorted elements from a dataset\n",
    "\n",
    "<font size = \"3\">\n",
    "\n",
    "- Sort by \"prop_urbanpopulation\" in descending order\n",
    "- Subset the 5 countries with the highest urban population"
   ]
  },
  {
   "cell_type": "code",
   "execution_count": 9,
   "metadata": {},
   "outputs": [
    {
     "data": {
      "text/plain": [
       "212               Singapore\n",
       "147        Macao SAR, China\n",
       "40           Cayman Islands\n",
       "90                Gibraltar\n",
       "103    Hong Kong SAR, China\n",
       "Name: countryname, dtype: object"
      ]
     },
     "metadata": {},
     "output_type": "display_data"
    }
   ],
   "source": [
    "# Write your code here\n",
    "prop_descend = wdi.sort_values(by = \"prop_urbanpopulation\", ascending = False)\n",
    "display(prop_descend.iloc[0:5, 2])\n",
    "\n"
   ]
  },
  {
   "attachments": {},
   "cell_type": "markdown",
   "metadata": {},
   "source": [
    "<font size = \"5\">\n",
    "\n",
    "(d) Subset elements with query\n",
    "\n",
    "<font size = \"3\">\n",
    "\n",
    "- Compute the median of \"prop_urbanpopulation\"\n",
    "- Use \".query()\" to subset countries with <br>\n",
    " \"prop_urbanpopulation\" above the median"
   ]
  },
  {
   "cell_type": "code",
   "execution_count": 12,
   "metadata": {},
   "outputs": [],
   "source": [
    "# Write your own code here\n",
    "prop_median = wdi[\"prop_urbanpopulation\"].median()\n",
    "prop_abovemedian = wdi.query(\"prop_urbanpopulation > @prop_median\")\n"
   ]
  },
  {
   "attachments": {},
   "cell_type": "markdown",
   "metadata": {},
   "source": [
    "<font size = \"5\">\n",
    "\n",
    "(e) Plot by category\n",
    "\n",
    "<font size = \"3\">\n",
    "\n",
    "- Read \"data/wdi_urban.csv\"<br>\n",
    "This contains data from 1980 and 2020\n",
    "\n",
    "- Create a list with the unique values of \"year\"\n",
    "- Create a plot with a ...\n",
    "    - Histogram of \"prop_urbanpopulation\" <br>\n",
    "    for each year\n",
    "    - Set the histogram option ``` alpha = 0.5 ``` for transparency\n",
    "    - All the histograms should be overlapping\n",
    "    - Create a legend with the list of years\n",
    "    - Label the axes and the title\n",
    "\n",
    "What do we learn from the graph?\n",
    "\n",
    "HINT: See the example at the end of Lecture 10\n"
   ]
  },
  {
   "cell_type": "code",
   "execution_count": 17,
   "metadata": {},
   "outputs": [
    {
     "data": {
      "text/plain": [
       "Text(0.5, 1.0, 'Histogram of prop_urbanpopulation in each year')"
      ]
     },
     "execution_count": 17,
     "metadata": {},
     "output_type": "execute_result"
    },
    {
     "data": {
      "image/png": "[encoded data removed]",
      "text/plain": [
       "<Figure size 432x288 with 1 Axes>"
      ]
     },
     "metadata": {
      "needs_background": "light"
     },
     "output_type": "display_data"
    }
   ],
   "source": [
    "# Write your own code here\n",
    "urban = pd.read_csv(\"data/wdi_urban.csv\")\n",
    "\n",
    "list_year = pd.unique(urban[\"year\"])\n",
    "\n",
    "for year in list_year:\n",
    "    temp = urban.query(\"year == @year\")\n",
    "    plt.hist(temp[\"prop_urbanpopulation\"], alpha = 0.5)\n",
    "\n",
    "plt.legend(labels = list_year)\n",
    "plt.xlabel(\"prop_urbanpopulation\")\n",
    "plt.ylabel(\"frequency\")\n",
    "plt.title(\"Histogram of prop_urbanpopulation in each year\")"
   ]
  }
 ],
 "metadata": {
  "kernelspec": {
   "display_name": "base",
   "language": "python",
   "name": "python3"
  },
  "language_info": {
   "codemirror_mode": {
    "name": "ipython",
    "version": 3
   },
   "file_extension": ".py",
   "mimetype": "text/x-python",
   "name": "python",
   "nbconvert_exporter": "python",
   "pygments_lexer": "ipython3",
   "version": "3.9.12"
  },
  "orig_nbformat": 4,
  "vscode": {
   "interpreter": {
    "hash": "3bd7d49d4a1742888fbbaf6783457c5d52e2ba8099a9b0003482462b46c20c7a"
   }
  }
 },
 "nbformat": 4,
 "nbformat_minor": 2
}
