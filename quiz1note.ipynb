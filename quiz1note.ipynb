{
 "cells": [
  {
   "cell_type": "code",
   "execution_count": null,
   "metadata": {},
   "outputs": [],
   "source": [
    "import numpy as np\n",
    "import matplotlib.pyplot as plt\n",
    "import pandas as pd"
   ]
  },
  {
   "cell_type": "code",
   "execution_count": null,
   "metadata": {},
   "outputs": [],
   "source": [
    "# Lecture 1\n",
    "# .describe"
   ]
  },
  {
   "cell_type": "code",
   "execution_count": null,
   "metadata": {},
   "outputs": [
    {
     "name": "stdout",
     "output_type": "stream",
     "text": [
      "[1, 2, 3, 1]\n",
      "[1, 2, 3, 1, 2, 3]\n"
     ]
    }
   ],
   "source": [
    "# Lecture 2\n",
    "# identify type of object\n",
    "type(1) \n",
    "# + - * / **\n",
    "# 把数字变成字符\n",
    "str() \n",
    "# list，从0开始\n",
    "list_numbers = [1,2,3] \n",
    "list_color = [\"red\",\"blue\"]\n",
    "# list+[1]就是在这个list后面加上1，乘int就是重复list int倍\n",
    "print(list_numbers+[1])\n",
    "print(list_numbers*2)"
   ]
  },
  {
   "cell_type": "code",
   "execution_count": null,
   "metadata": {},
   "outputs": [],
   "source": [
    "# Lecture 3\n",
    "# np：计算\n",
    "print(np.log(1))\n",
    "print(np.exp(1))\n",
    "print(np.sin(1))\n",
    "print(np.cos(1))\n",
    "print(np.sqrt(1))\n",
    "# array\n",
    "vec_a  = np.array([1,2,3])\n",
    "# array的加减乘除int就是array里面的数字加减乘除int\n",
    "# array加减乘除array就是每个位置的数字相加减乘除\n",
    "# statistics\n",
    "print(np.mean(vec_a))\n",
    "print(np.std(vec_a))\n",
    "print(np.min(vec_a))\n",
    "print(np.median(vec_a))\n",
    "print(np.max(vec_a))\n",
    "# random numbers（loc=mean，scale=sd，size=numbers）\n",
    "randomvar_a = np.random.normal(loc=0, scale=1, size=10)\n",
    "# seed\n",
    "np.random.seed(123)\n",
    "# histogram\n",
    "plt.hist(x = randomvar_a)\n",
    "plt.xlabel(\"Variable a\")\n",
    "plt.ylabel(\"Frequency\")\n"
   ]
  },
  {
   "cell_type": "code",
   "execution_count": null,
   "metadata": {},
   "outputs": [
    {
     "name": "stdout",
     "output_type": "stream",
     "text": [
      "True\n",
      "True\n",
      "True\n"
     ]
    }
   ],
   "source": [
    "# Lecture 4\n",
    "# == 比较\n",
    "# test word in sentence, lsit\n",
    "word = \"hi\"\n",
    "sentence = \"hi Nora\"\n",
    "list_words = [\"hi\",\"hello\"]\n",
    "print(word in sentence)\n",
    "print(word in list_words)\n",
    "# > < >= <= ==\n",
    "# isinstance\n",
    "y=10\n",
    "print( isinstance(y,int)  )\n",
    "# array的比较是一个位置一个位置比\n",
    "# not ()\n",
    "# & and, | or\n",
    "# if statement\n",
    "# if test_expression:\n",
    "#   Body\n",
    "# elif test_expression:\n",
    "#   Body\n",
    "# else: \n",
    "#   Body\n"
   ]
  },
  {
   "cell_type": "markdown",
   "metadata": {},
   "source": [
    "# Lecture 5\n",
    "# bool() 判断true/false 只要不是0，都true\n",
    "# len()判断list的长度\n",
    "print(len(list_numbers))\n",
    "# .append()\n",
    "# for loop\n",
    "list_ids = [\"KIA\", \"Ferrari\", \"Ford\", \"Tesla\"]\n",
    "index = 1\n",
    "print('We are out of the loop', index)\n",
    "for id in list_ids:\n",
    "    print(\"Dear customer, your position is \" + str(index) + \" on the waitlist\" +\n",
    "           \" and your car brand is \" + id )\n",
    "    index = index + 1\n",
    "    print('We are inside the loop', index)\n",
    "# Scatterplot\n",
    "carfeatures = pd.read_csv(\"lecture_05/data/features.csv\")\n",
    "list_vars   = [\"acceleration\",\"weight\"]\n",
    "for variable_name in list_vars:\n",
    "    plt.scatter(x= carfeatures[variable_name], y = carfeatures[\"mpg\"])\n",
    "    plt.ylabel(\"mpg\")\n",
    "    plt.xlabel(variable_name)\n",
    "    plt.title(\"Figure\" + str(index))\n",
    "    plt.show()\n",
    "# math operation (y=x^2+2x)\n",
    "list_x = [1,2,4,5,6,7,8,9,10]\n",
    "list_y = [None] * len(list_x)\n",
    "## Create an index \n",
    "index = 0\n",
    "for x in list_x:\n",
    "    list_y[index] = list_x[index]**2 + 2*list_x[index]\n",
    "    index = index + 1\n",
    "\n",
    "## Display results visually\n",
    "print(list_y)\n",
    "plt.scatter(list_x, list_y)\n",
    "plt.xlabel(\"X-axis\")\n",
    "plt.ylabel(\"Y-axis\")"
   ]
  },
  {
   "cell_type": "code",
   "execution_count": null,
   "metadata": {},
   "outputs": [],
   "source": [
    "# Lecture 6\n",
    "# normal, chisquare, uniform\n",
    "vec_normal  = np.random.normal(loc = 7, scale = 5, size = n)\n",
    "vec_chisqr  = np.random.chisquare(df = 1, size = n)\n",
    "vec_unif    = np.random.uniform(low = -3,high = 5, size = n)\n",
    "# mean\n",
    "print(vec_normal.mean())\n",
    "print(vec_chisqr.mean())\n",
    "print(vec_unif.mean())\n",
    "\n",
    "# 画两个plot并列在一行里\n",
    "fig, list_subfig = plt.subplots(1, 2,figsize = (6,3))\n",
    "# ensures that the axes are not overlapping\n",
    "plt.tight_layout()\n",
    "# list_subfig[0].hist(x = vec_normal / vec_chisqr / vec_unif) ([0]/[1]/[2]都可）\n",
    "# list_subfig[0].set_title(\"Normal Distribution\")\n",
    "# list_subfig[0].set_xlabel(\"Value\")\n",
    "# list_subfig[0].set_xlabel(\"Frequency\")\n",
    "\n",
    "# list(range(n)) 写有n个字母的list\n",
    "n = 10\n",
    "list_ten = list(range(n))\n",
    "print(list_ten)"
   ]
  },
  {
   "cell_type": "markdown",
   "metadata": {},
   "source": [
    "list_csv_datasets = [\"data_quiz/dataset1.csv\", \"data_quiz/dataset2.csv\", \"data_quiz/dataset3.csv\"]\n",
    "\n",
    "# Create a new list called \"list_newnames\" with \".xlsx\" extensions and the subfolder \"data_excel/\"\n",
    "list_newnames = [\"data_excel/dataset1.xlsx\", \"data_excel/dataset2.xlsx\", \"data_excel/dataset3.xlsx\"]\n",
    "\n",
    "# Start an index\n",
    "index = 0\n",
    "\n",
    "# Initiate a for loop over the list of dataset names\n",
    "for csv_dataset in list_csv_datasets:\n",
    "    # Read the \".csv\" dataset and store it in an object called \"dataset\"\n",
    "    dataset = pd.read_csv(csv_dataset)\n",
    "    \n",
    "    # Create a variable called \"filename\" from the \"list_newnames\", extracting the element \"index\"\n",
    "    filename = list_newnames[index]\n",
    "    \n",
    "    # Store \"dataset\" as an Excel file with the name \"filename\"\n",
    "    dataset.to_excel(filename, index=False)\n",
    "    \n",
    "    # Increment the index\n",
    "    index += 1\n",
    "\n",
    "*******************************\n",
    "list_csv_datasets = [\"data_quiz/dataset1.csv\", \"data_quiz/dataset2.csv\", \"data_quiz/dataset3.csv\"]\n",
    "\n",
    "# Start an index\n",
    "index = 0\n",
    "\n",
    "# Initiate a for loop over the list of dataset names\n",
    "for csv_dataset in list_csv_datasets:\n",
    "    # Read the dataset and store it in an object called \"dataset\"\n",
    "    dataset = pd.read_csv(csv_dataset)\n",
    "    \n",
    "    # Create a new variable percent_ages0to14\n",
    "    percent_ages0to14 = dataset[\"percent_ages0to14\"]\n",
    "    \n",
    "    # Calculate the proportion of the population 15 or older\n",
    "    proportion_15_or_older = 100 - percent_ages0to14\n",
    "    \n",
    "    # Plot a histogram\n",
    "    plt.hist(proportion_15_or_older, bins=20, edgecolor='black')\n",
    "    \n",
    "    # Label the axes\n",
    "    plt.xlabel('Proportion of Population 15 or Older')\n",
    "    plt.ylabel('Frequency')\n",
    "    \n",
    "    # Show the plot\n",
    "    plt.show()\n",
    "    \n",
    "    # Increment the index\n",
    "    index += 1"
   ]
  }
 ],
 "metadata": {
  "kernelspec": {
   "display_name": "qtm151",
   "language": "python",
   "name": "python3"
  },
  "language_info": {
   "codemirror_mode": {
    "name": "ipython",
    "version": 3
   },
   "file_extension": ".py",
   "mimetype": "text/x-python",
   "name": "python",
   "nbconvert_exporter": "python",
   "pygments_lexer": "ipython3",
   "version": "3.11.4"
  },
  "orig_nbformat": 4
 },
 "nbformat": 4,
 "nbformat_minor": 2
}
