{
 "cells": [
  {
   "cell_type": "code",
   "execution_count": null,
   "metadata": {},
   "outputs": [],
   "source": [
    "import numpy as np\n",
    "import matplotlib.pyplot as plt\n",
    "import pandas as pd"
   ]
  },
  {
   "cell_type": "code",
   "execution_count": 1,
   "metadata": {},
   "outputs": [],
   "source": [
    "# Lec 07\n",
    "# pirint(), type(), round(), abs(), len()\n",
    "# define a function\n",
    "def function_v(P, r,n, t):\n",
    "    v = P*(1+(r/n))**(n*t)\n",
    "    return v\n",
    "function_v(P=100, r = 0.01, n = 20, t=10)\n",
    "# if function:\n",
    "def if_func(x):\n",
    "    if x > 5:\n",
    "        print(\">5\")\n",
    "    else:\n",
    "        print(\"<5\")\n",
    "# lambda\n",
    "fn_sum = lambda x,y,z: x + y + z\n",
    "fn_sum(1,2,3)\n",
    "fn_iseligible_vote = lambda age: age>=18\n",
    "# list: list_a = []"
   ]
  },
  {
   "cell_type": "code",
   "execution_count": null,
   "metadata": {},
   "outputs": [],
   "source": [
    "# Lec 08\n",
    "# difference between and and &\n",
    "# apply function\n",
    "data  = pd.DataFrame() # Create an empty data frame\n",
    "data[\"age\"] = [18,29,15,32,6]\n",
    "data[\"canvote\"] = data[\"age\"].apply(fn_iseligible_vote)\n",
    "# drop\n",
    "data = data.drop(columns=['new_var'])\n",
    "# map\n",
    "data[\"can_vote_map\"] = list(map(fn_iseligible_vote, data[\"age\"]))"
   ]
  },
  {
   "cell_type": "code",
   "execution_count": null,
   "metadata": {},
   "outputs": [],
   "source": [
    "# Lec 09\n",
    "# .values: extract column names: \n",
    "carfeatures = pd.read_csv(\"data_raw/features.csv\")\n",
    "car_colnames = carfeatures.columns.values\n",
    "# sub matrix\n",
    "list_subsetcols     = [\"weight\",\"mpg\"]\n",
    "subcols_carfeatures = carfeatures[list_subsetcols]\n",
    "display(subcols_carfeatures)\n",
    "    # or\n",
    "display(carfeatures[[\"weight\",\"mpg\"]])\n",
    "# sort_values (ascending:由低到高)\n",
    "carsorted = carfeatures.sort_values(by = \"mpg\", ascending = False)\n",
    "# iloc: extract subset\n",
    "    #data.iloc[ lower:upper , : ]\n",
    "display(carsorted.iloc[0,:])\n",
    "display(carsorted.iloc[[0,1,2],:])\n",
    "    # rows and columns: data.iloc[ list_rows , list_cols ]\n",
    "# Query: Filter the data based on its content\n",
    "data.query(\"logical expression\")\n",
    "# for example, Subset the data with mpg >= 25 and cylinders == 8\n",
    "data_mpg_cylinders = carfeatures.query(\"(mpg >= 25) and (cylinders == 8)\")\n",
    "    # @ (include global variables)\n",
    "threshold = 25\n",
    "data_varthreshold_mpg = carfeatures.query(\"mpg >= @threshold\")\n",
    "    # \"`\" \n"
   ]
  },
  {
   "cell_type": "code",
   "execution_count": null,
   "metadata": {},
   "outputs": [],
   "source": [
    "# Lec 11\n",
    "# Random assignment\n",
    "list_status  = [\"Treatment\",\"Control\"]\n",
    "prop_status  = [0.4,0.6]\n",
    "size_dataset = len(carfeatures)\n",
    "carfeatures[\"status\"] = np.random.choice(list_status,\n",
    "                                         size = size_dataset,\n",
    "                                         p = prop_status)\n",
    "# split dataset\n",
    "data_treated = carfeatures.query('status == \"Treatment\" ')\n",
    "data_control = carfeatures.query('status == \"Control\" ')\n",
    "# display\n",
    "display(data_treated.describe())\n",
    "display(data_control.describe())"
   ]
  }
 ],
 "metadata": {
  "kernelspec": {
   "display_name": "qtm151",
   "language": "python",
   "name": "python3"
  },
  "language_info": {
   "codemirror_mode": {
    "name": "ipython",
    "version": 3
   },
   "file_extension": ".py",
   "mimetype": "text/x-python",
   "name": "python",
   "nbconvert_exporter": "python",
   "pygments_lexer": "ipython3",
   "version": "3.11.4"
  },
  "orig_nbformat": 4
 },
 "nbformat": 4,
 "nbformat_minor": 2
}
